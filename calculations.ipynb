{
 "cells": [
  {
   "cell_type": "code",
   "execution_count": 34,
   "metadata": {},
   "outputs": [],
   "source": [
    "import numpy as np\n",
    "import numpy_indexed as npi\n",
    "import sys\n",
    "import itertools\n",
    "from itertools import permutations \n",
    "from itertools import product\n",
    "from collections import Counter\n",
    "import scipy.io as sio\n",
    "import pickle\n",
    "import copy"
   ]
  },
  {
   "cell_type": "code",
   "execution_count": 35,
   "metadata": {},
   "outputs": [],
   "source": [
    "import sbd\n",
    "import cluster_calcs\n",
    "import dynamics\n",
    "import direct"
   ]
  },
  {
   "cell_type": "markdown",
   "metadata": {},
   "source": [
    "First, we provide a list of edges:"
   ]
  },
  {
   "cell_type": "code",
   "execution_count": 45,
   "metadata": {},
   "outputs": [],
   "source": [
    "edges_2 = [[1,2],[2,3],[3,4],[4,5],[5,6],[6,7],[1,7],\n",
    "           [1,3],[2,4],[3,5],[4,6],[5,7],[1,6],[2,7],\n",
    "           [1,8],[2,9],[3,10],[4,11],[5,12],[6,13],[7,14],\n",
    "           [8,9],[9,10],[10,11],[11,12],[12,13],[13,14],[8,14],\n",
    "           [8,10],[9,11],[10,12],[11,13],[12,14],[8,13],[9,14]]\n",
    "edges_3 = [[1,2,3],[2,3,4],[3,4,5],[4,5,6],[5,6,7],[1,6,7],[1,2,7],\n",
    "           [8,9,10],[9,10,11],[10,11,12],[11,12,13],[12,13,14],[8,13,14],[8,9,14]]\n",
    "clusters = [[1,2,3,4,5,6,7],[8,9,10,11,12,13,14]]\n",
    "\n",
    "edges = {}\n",
    "edges['2'] = edges_2\n",
    "edges['3'] = edges_3\n",
    "\n",
    "clust = cluster_calcs.ClusterSync(edges, clusters) "
   ]
  },
  {
   "cell_type": "markdown",
   "metadata": {},
   "source": [
    "Simultaneous block diagonalization:"
   ]
  },
  {
   "cell_type": "code",
   "execution_count": 46,
   "metadata": {},
   "outputs": [
    {
     "name": "stdout",
     "output_type": "stream",
     "text": [
      "Dimensions of transverse blocks are:[4 4 4]\n"
     ]
    }
   ],
   "source": [
    "err = 1e-8\n",
    "clust.SBD(err)\n",
    "print('Dimensions of transverse blocks are:' + str(clust.block_size_SBD_transverse))"
   ]
  },
  {
   "cell_type": "code",
   "execution_count": 41,
   "metadata": {},
   "outputs": [],
   "source": [
    "#method_list = [func for func in dir(clust) if callable(getattr(clust, func)) and not func.startswith(\"__\")]\n",
    "#dir(clust)"
   ]
  },
  {
   "cell_type": "markdown",
   "metadata": {},
   "source": [
    "And save the results:"
   ]
  },
  {
   "cell_type": "code",
   "execution_count": 47,
   "metadata": {},
   "outputs": [],
   "source": [
    "pickle.dump(clust, open(\"cluster_sync.p\", \"wb\"))"
   ]
  },
  {
   "cell_type": "markdown",
   "metadata": {},
   "source": [
    "Now, we define the dynamical terms and their partial derivatives with respect to contributing nodes (assuming Laplacian-like coupling). The maximum edge order is arbitrary.\n",
    "\n",
    "This is valid for $\\dot{x_i}=...+G^{(m)}(\\sum\\limits_mx_{j_{m}}-m x_i)$, where $\\dfrac{\\partial G^{(m)}(\\sum x_{j_{m}}-m x_i)}{\\partial j_k}$ are equal."
   ]
  },
  {
   "cell_type": "code",
   "execution_count": 29,
   "metadata": {},
   "outputs": [],
   "source": [
    "def self_term(x):\n",
    "    \"\"\"Find the value of the self-term\"\"\"\n",
    "    return (np.sin(x + np.pi/4))**2\n",
    "    \n",
    "def dyadic_term(x):\n",
    "    \"\"\"Find the value of the dyadic coupling term\"\"\"\n",
    "    return (np.sin(x[1] + np.pi/4))**2 - (np.sin(x[0] + np.pi/4))**2\n",
    "    \n",
    "def triadic_term(x):\n",
    "    \"\"\"Find the value of the triadic term\"\"\"\n",
    "    return (- np.sin(x[1] + x[2] - 2*x[0]))\n",
    "    \n",
    "def self_term_J(x):\n",
    "    \"\"\"Partial derivative of the self-term\"\"\"\n",
    "    return np.sin(2*x + np.pi/2)\n",
    "        \n",
    "def dyadic_term_J(x):\n",
    "    \"\"\"Partial derivative of the dyadic term\"\"\"\n",
    "    return np.sin(2*x[1] + np.pi/2)\n",
    "        \n",
    "def triadic_term_J(x):\n",
    "    \"\"\"Partial derivative of the triadic term\"\"\"\n",
    "    return (- np.cos(x[1] + x[2] - 2*x[0]))\n",
    "\n",
    "dynamics_terms = {}\n",
    "dynamics_terms['1'] = self_term\n",
    "dynamics_terms['2'] = dyadic_term\n",
    "dynamics_terms['3'] = triadic_term\n",
    " \n",
    "jacobian_terms = {}\n",
    "jacobian_terms['1'] = self_term_J\n",
    "jacobian_terms['2'] = dyadic_term_J\n",
    "jacobian_terms['3'] = triadic_term_J"
   ]
  },
  {
   "cell_type": "markdown",
   "metadata": {},
   "source": [
    "Define the parameter ranges:"
   ]
  },
  {
   "cell_type": "code",
   "execution_count": 30,
   "metadata": {},
   "outputs": [],
   "source": [
    "sigma_2_max = .6\n",
    "n_2 = 7 # number of sigma_2 parameters\n",
    "sigma_3_max = .4\n",
    "n_3 = 7 # number of sigma_3 parameters\n",
    "beta = 2.3\n",
    "\n",
    "coupling_strengths = {}\n",
    "coupling_strengths['2'] = np.arange(n_2) * sigma_2_max/n_2\n",
    "coupling_strengths['3'] = np.arange(n_3) * sigma_3_max/n_3"
   ]
  },
  {
   "cell_type": "markdown",
   "metadata": {},
   "source": [
    "And the number of steps:"
   ]
  },
  {
   "cell_type": "code",
   "execution_count": 31,
   "metadata": {},
   "outputs": [],
   "source": [
    "T = 2000"
   ]
  },
  {
   "cell_type": "markdown",
   "metadata": {},
   "source": [
    "Evolve the dynamics on quotient networks together with perturbations:"
   ]
  },
  {
   "cell_type": "code",
   "execution_count": 32,
   "metadata": {},
   "outputs": [],
   "source": [
    "dyn_shape = ()\n",
    "for order in clust.orders:\n",
    "    dyn_shape+= (len(coupling_strengths[order]),)\n",
    "norm_shape = copy.copy(dyn_shape)\n",
    "dyn_shape+= (T,)\n",
    "norm_shape+= (T-1,)\n",
    "perturb_shape = copy.copy(dyn_shape)\n",
    "dyn_shape+= (clust.nclusters['1'],)\n",
    "perturb_shape+= (clust.size - clust.nclusters['1'],)\n",
    "dynamics_quotient = np.zeros(dyn_shape)\n",
    "dynamics_perturbations = np.zeros(perturb_shape)\n",
    "norms = np.zeros(norm_shape)\n",
    "    \n",
    "iter_inds = []\n",
    "for order in clust.orders:\n",
    "    iter_inds+= [(np.arange(len(coupling_strengths[order]))).tolist()]\n",
    "    \n",
    "for ind in product(*iter_inds):\n",
    "    sigma = {}\n",
    "    for i, order in enumerate(clust.orders):\n",
    "        sigma[order] = coupling_strengths[order][ind[i]]\n",
    "    dyn = dynamics.Dynamics(clust, dynamics_terms, jacobian_terms, beta, sigma)\n",
    "    dyn_quotient, dyn_perturbations, norm = dyn.extended_dynamics_evolution(T)\n",
    "    dynamics_quotient[ind] = dyn_quotient # evolution of the state of each cluster\n",
    "    dynamics_perturbations[ind] = dyn_perturbations # perturbation dynamics\n",
    "    norms[ind] = norm"
   ]
  },
  {
   "cell_type": "markdown",
   "metadata": {},
   "source": [
    "And save the results:"
   ]
  },
  {
   "cell_type": "code",
   "execution_count": 33,
   "metadata": {},
   "outputs": [],
   "source": [
    "pickle.dump(norms, open(\"norms.p\", \"wb\"))\n",
    "pickle.dump(dynamics_quotient, open(\"quotient.p\", \"wb\"))\n",
    "pickle.dump(dynamics_perturbations, open(\"perturbations.p\", \"wb\"))\n",
    "quotient_last = quotient[:,:,-1,:]\n",
    "pickle.dump(quotient_last, open(\"quotient_last.p\", \"wb\"))"
   ]
  }
 ],
 "metadata": {
  "kernelspec": {
   "display_name": "Python 3",
   "language": "python",
   "name": "python3"
  },
  "language_info": {
   "codemirror_mode": {
    "name": "ipython",
    "version": 3
   },
   "file_extension": ".py",
   "mimetype": "text/x-python",
   "name": "python",
   "nbconvert_exporter": "python",
   "pygments_lexer": "ipython3",
   "version": "3.8.3"
  }
 },
 "nbformat": 4,
 "nbformat_minor": 4
}
